{
 "cells": [
  {
   "cell_type": "code",
   "execution_count": 2,
   "metadata": {},
   "outputs": [
    {
     "name": "stdout",
     "output_type": "stream",
     "text": [
      "git remote add origin https://github.com/IsaacSemb/html-portfolio.git\n",
      "git remote set-url add origin https://github.com/IsaacSemb/html-portfolio.git\n"
     ]
    }
   ],
   "source": [
    "# saving all your work to your remote repository after everything\n",
    "\n",
    "# # this is everything to a remote repository in our case GitHub\n",
    "\n",
    "\n",
    "username = \"IsaacSemb\"\n",
    "repo_name = \"html-portfolio\"\n",
    "\n",
    "\n",
    "git_command = \"git remote add origin\"\n",
    "\n",
    "\n",
    "command = f\"{git_command} https://github.com/{username}/{repo_name}.git\"\n",
    "\n",
    "reset = f\"git remote set-url add origin https://github.com/{username}/{repo_name}.git\"\n",
    "\n",
    "print(command)\n",
    "print(reset)"
   ]
  },
  {
   "cell_type": "raw",
   "metadata": {
    "vscode": {
     "languageId": "raw"
    }
   },
   "source": [
    "git remote add origin https://github.com/IsaacSemb/html-portfolio.git\n",
    "\n",
    "\n",
    "before you push anything, the folder wont appear\n",
    "\n",
    "to see your repos, use \n",
    "    git remote -v\n",
    "\n",
    "to remove\n",
    "    git remote rm origin\n"
   ]
  },
  {
   "cell_type": "code",
   "execution_count": 3,
   "metadata": {},
   "outputs": [
    {
     "name": "stdout",
     "output_type": "stream",
     "text": [
      "git push origin master\n"
     ]
    }
   ],
   "source": [
    "\n",
    "command = \"git push\"\n",
    "\n",
    "name = \"origin\"\n",
    "\n",
    "branch = \"master\"\n",
    "\n",
    "full = f\"{command} {name} {branch}\" \n",
    "\n",
    "print(full)\n"
   ]
  },
  {
   "cell_type": "code",
   "execution_count": null,
   "metadata": {},
   "outputs": [],
   "source": []
  }
 ],
 "metadata": {
  "kernelspec": {
   "display_name": "Python 3",
   "language": "python",
   "name": "python3"
  },
  "language_info": {
   "codemirror_mode": {
    "name": "ipython",
    "version": 3
   },
   "file_extension": ".py",
   "mimetype": "text/x-python",
   "name": "python",
   "nbconvert_exporter": "python",
   "pygments_lexer": "ipython3",
   "version": "3.11.9"
  }
 },
 "nbformat": 4,
 "nbformat_minor": 2
}
